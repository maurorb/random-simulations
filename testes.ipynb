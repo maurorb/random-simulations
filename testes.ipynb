{
 "cells": [
  {
   "cell_type": "code",
   "execution_count": 6,
   "metadata": {},
   "outputs": [],
   "source": [
    "import random\n",
    "import matplotlib.pyplot as plt"
   ]
  },
  {
   "cell_type": "code",
   "execution_count": 38,
   "metadata": {},
   "outputs": [
    {
     "data": {
      "text/plain": [
       "(array([  9.,  36.,  90., 170., 231., 228., 141.,  67.,  19.,   9.]),\n",
       " array([ 26.00756291,  35.11207355,  44.2165842 ,  53.32109484,\n",
       "         62.42560549,  71.53011613,  80.63462678,  89.73913742,\n",
       "         98.84364807, 107.94815872, 117.05266936]),\n",
       " <a list of 10 Patch objects>)"
      ]
     },
     "execution_count": 38,
     "metadata": {},
     "output_type": "execute_result"
    },
    {
     "data": {
      "image/png": "[encoded data removed]",
      "text/plain": [
       "<Figure size 432x288 with 1 Axes>"
      ]
     },
     "metadata": {
      "needs_background": "light"
     },
     "output_type": "display_data"
    }
   ],
   "source": [
    "plt.hist([abs(random.gauss(70,15)) for i in range(1000)],ec='k')"
   ]
  }
 ],
 "metadata": {
  "interpreter": {
   "hash": "89e9a93276cf74b10d8777fa46d582e048e4e0920b86b21e056ea759c711dd3c"
  },
  "kernelspec": {
   "display_name": "Python 3.8.3 64-bit ('base': conda)",
   "language": "python",
   "name": "python3"
  },
  "language_info": {
   "codemirror_mode": {
    "name": "ipython",
    "version": 3
   },
   "file_extension": ".py",
   "mimetype": "text/x-python",
   "name": "python",
   "nbconvert_exporter": "python",
   "pygments_lexer": "ipython3",
   "version": "3.8.3"
  },
  "orig_nbformat": 4
 },
 "nbformat": 4,
 "nbformat_minor": 2
}
